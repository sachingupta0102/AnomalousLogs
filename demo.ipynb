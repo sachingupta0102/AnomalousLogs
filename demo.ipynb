{
 "cells": [
  {
   "cell_type": "code",
   "execution_count": 1,
   "id": "d8631071-2c96-464b-adcb-d72f2fdd1a30",
   "metadata": {},
   "outputs": [
    {
     "name": "stdout",
     "output_type": "stream",
     "text": [
      "Requirement already satisfied: langchain in /opt/anaconda3/lib/python3.11/site-packages (0.2.1)\n",
      "Requirement already satisfied: llama_index in /opt/anaconda3/lib/python3.11/site-packages (0.10.42)\n",
      "Requirement already satisfied: pandas in /opt/anaconda3/lib/python3.11/site-packages (2.1.4)\n",
      "Requirement already satisfied: plotly in /opt/anaconda3/lib/python3.11/site-packages (5.9.0)\n",
      "Requirement already satisfied: PyYAML>=5.3 in /opt/anaconda3/lib/python3.11/site-packages (from langchain) (6.0.1)\n",
      "Requirement already satisfied: SQLAlchemy<3,>=1.4 in /opt/anaconda3/lib/python3.11/site-packages (from langchain) (2.0.30)\n",
      "Requirement already satisfied: aiohttp<4.0.0,>=3.8.3 in /opt/anaconda3/lib/python3.11/site-packages (from langchain) (3.9.3)\n",
      "Requirement already satisfied: langchain-core<0.3.0,>=0.2.0 in /opt/anaconda3/lib/python3.11/site-packages (from langchain) (0.2.3)\n",
      "Requirement already satisfied: langchain-text-splitters<0.3.0,>=0.2.0 in /opt/anaconda3/lib/python3.11/site-packages (from langchain) (0.2.0)\n",
      "Requirement already satisfied: langsmith<0.2.0,>=0.1.17 in /opt/anaconda3/lib/python3.11/site-packages (from langchain) (0.1.68)\n",
      "Requirement already satisfied: numpy<2,>=1 in /opt/anaconda3/lib/python3.11/site-packages (from langchain) (1.26.4)\n",
      "Requirement already satisfied: pydantic<3,>=1 in /opt/anaconda3/lib/python3.11/site-packages (from langchain) (2.7.2)\n",
      "Requirement already satisfied: requests<3,>=2 in /opt/anaconda3/lib/python3.11/site-packages (from langchain) (2.31.0)\n",
      "Requirement already satisfied: tenacity<9.0.0,>=8.1.0 in /opt/anaconda3/lib/python3.11/site-packages (from langchain) (8.3.0)\n",
      "Requirement already satisfied: llama-index-agent-openai<0.3.0,>=0.1.4 in /opt/anaconda3/lib/python3.11/site-packages (from llama_index) (0.2.7)\n",
      "Requirement already satisfied: llama-index-cli<0.2.0,>=0.1.2 in /opt/anaconda3/lib/python3.11/site-packages (from llama_index) (0.1.12)\n",
      "Requirement already satisfied: llama-index-core==0.10.42 in /opt/anaconda3/lib/python3.11/site-packages (from llama_index) (0.10.42)\n",
      "Requirement already satisfied: llama-index-embeddings-openai<0.2.0,>=0.1.5 in /opt/anaconda3/lib/python3.11/site-packages (from llama_index) (0.1.10)\n",
      "Requirement already satisfied: llama-index-indices-managed-llama-cloud<0.2.0,>=0.1.2 in /opt/anaconda3/lib/python3.11/site-packages (from llama_index) (0.1.6)\n",
      "Requirement already satisfied: llama-index-legacy<0.10.0,>=0.9.48 in /opt/anaconda3/lib/python3.11/site-packages (from llama_index) (0.9.48)\n",
      "Requirement already satisfied: llama-index-llms-openai<0.2.0,>=0.1.13 in /opt/anaconda3/lib/python3.11/site-packages (from llama_index) (0.1.22)\n",
      "Requirement already satisfied: llama-index-multi-modal-llms-openai<0.2.0,>=0.1.3 in /opt/anaconda3/lib/python3.11/site-packages (from llama_index) (0.1.6)\n",
      "Requirement already satisfied: llama-index-program-openai<0.2.0,>=0.1.3 in /opt/anaconda3/lib/python3.11/site-packages (from llama_index) (0.1.6)\n",
      "Requirement already satisfied: llama-index-question-gen-openai<0.2.0,>=0.1.2 in /opt/anaconda3/lib/python3.11/site-packages (from llama_index) (0.1.3)\n",
      "Requirement already satisfied: llama-index-readers-file<0.2.0,>=0.1.4 in /opt/anaconda3/lib/python3.11/site-packages (from llama_index) (0.1.23)\n",
      "Requirement already satisfied: llama-index-readers-llama-parse<0.2.0,>=0.1.2 in /opt/anaconda3/lib/python3.11/site-packages (from llama_index) (0.1.4)\n",
      "Requirement already satisfied: dataclasses-json in /opt/anaconda3/lib/python3.11/site-packages (from llama-index-core==0.10.42->llama_index) (0.6.6)\n",
      "Requirement already satisfied: deprecated>=1.2.9.3 in /opt/anaconda3/lib/python3.11/site-packages (from llama-index-core==0.10.42->llama_index) (1.2.14)\n",
      "Requirement already satisfied: dirtyjson<2.0.0,>=1.0.8 in /opt/anaconda3/lib/python3.11/site-packages (from llama-index-core==0.10.42->llama_index) (1.0.8)\n",
      "Requirement already satisfied: fsspec>=2023.5.0 in /opt/anaconda3/lib/python3.11/site-packages (from llama-index-core==0.10.42->llama_index) (2023.10.0)\n",
      "Requirement already satisfied: httpx in /opt/anaconda3/lib/python3.11/site-packages (from llama-index-core==0.10.42->llama_index) (0.27.0)\n",
      "Requirement already satisfied: llamaindex-py-client<0.2.0,>=0.1.18 in /opt/anaconda3/lib/python3.11/site-packages (from llama-index-core==0.10.42->llama_index) (0.1.19)\n",
      "Requirement already satisfied: nest-asyncio<2.0.0,>=1.5.8 in /opt/anaconda3/lib/python3.11/site-packages (from llama-index-core==0.10.42->llama_index) (1.6.0)\n",
      "Requirement already satisfied: networkx>=3.0 in /opt/anaconda3/lib/python3.11/site-packages (from llama-index-core==0.10.42->llama_index) (3.1)\n",
      "Requirement already satisfied: nltk<4.0.0,>=3.8.1 in /opt/anaconda3/lib/python3.11/site-packages (from llama-index-core==0.10.42->llama_index) (3.8.1)\n",
      "Requirement already satisfied: openai>=1.1.0 in /opt/anaconda3/lib/python3.11/site-packages (from llama-index-core==0.10.42->llama_index) (1.30.4)\n",
      "Requirement already satisfied: pillow>=9.0.0 in /opt/anaconda3/lib/python3.11/site-packages (from llama-index-core==0.10.42->llama_index) (10.2.0)\n",
      "Requirement already satisfied: tiktoken>=0.3.3 in /opt/anaconda3/lib/python3.11/site-packages (from llama-index-core==0.10.42->llama_index) (0.7.0)\n",
      "Requirement already satisfied: tqdm<5.0.0,>=4.66.1 in /opt/anaconda3/lib/python3.11/site-packages (from llama-index-core==0.10.42->llama_index) (4.66.4)\n",
      "Requirement already satisfied: typing-extensions>=4.5.0 in /opt/anaconda3/lib/python3.11/site-packages (from llama-index-core==0.10.42->llama_index) (4.9.0)\n",
      "Requirement already satisfied: typing-inspect>=0.8.0 in /opt/anaconda3/lib/python3.11/site-packages (from llama-index-core==0.10.42->llama_index) (0.9.0)\n",
      "Requirement already satisfied: wrapt in /opt/anaconda3/lib/python3.11/site-packages (from llama-index-core==0.10.42->llama_index) (1.14.1)\n",
      "Requirement already satisfied: python-dateutil>=2.8.2 in /opt/anaconda3/lib/python3.11/site-packages (from pandas) (2.8.2)\n",
      "Requirement already satisfied: pytz>=2020.1 in /opt/anaconda3/lib/python3.11/site-packages (from pandas) (2023.3.post1)\n",
      "Requirement already satisfied: tzdata>=2022.1 in /opt/anaconda3/lib/python3.11/site-packages (from pandas) (2023.3)\n",
      "Requirement already satisfied: aiosignal>=1.1.2 in /opt/anaconda3/lib/python3.11/site-packages (from aiohttp<4.0.0,>=3.8.3->langchain) (1.2.0)\n",
      "Requirement already satisfied: attrs>=17.3.0 in /opt/anaconda3/lib/python3.11/site-packages (from aiohttp<4.0.0,>=3.8.3->langchain) (23.1.0)\n",
      "Requirement already satisfied: frozenlist>=1.1.1 in /opt/anaconda3/lib/python3.11/site-packages (from aiohttp<4.0.0,>=3.8.3->langchain) (1.4.0)\n",
      "Requirement already satisfied: multidict<7.0,>=4.5 in /opt/anaconda3/lib/python3.11/site-packages (from aiohttp<4.0.0,>=3.8.3->langchain) (6.0.4)\n",
      "Requirement already satisfied: yarl<2.0,>=1.0 in /opt/anaconda3/lib/python3.11/site-packages (from aiohttp<4.0.0,>=3.8.3->langchain) (1.9.3)\n",
      "Requirement already satisfied: jsonpatch<2.0,>=1.33 in /opt/anaconda3/lib/python3.11/site-packages (from langchain-core<0.3.0,>=0.2.0->langchain) (1.33)\n",
      "Requirement already satisfied: packaging<24.0,>=23.2 in /opt/anaconda3/lib/python3.11/site-packages (from langchain-core<0.3.0,>=0.2.0->langchain) (23.2)\n",
      "Requirement already satisfied: orjson<4.0.0,>=3.9.14 in /opt/anaconda3/lib/python3.11/site-packages (from langsmith<0.2.0,>=0.1.17->langchain) (3.10.3)\n",
      "Requirement already satisfied: beautifulsoup4<5.0.0,>=4.12.3 in /opt/anaconda3/lib/python3.11/site-packages (from llama-index-readers-file<0.2.0,>=0.1.4->llama_index) (4.12.3)\n",
      "Requirement already satisfied: pypdf<5.0.0,>=4.0.1 in /opt/anaconda3/lib/python3.11/site-packages (from llama-index-readers-file<0.2.0,>=0.1.4->llama_index) (4.2.0)\n",
      "Requirement already satisfied: striprtf<0.0.27,>=0.0.26 in /opt/anaconda3/lib/python3.11/site-packages (from llama-index-readers-file<0.2.0,>=0.1.4->llama_index) (0.0.26)\n",
      "Requirement already satisfied: llama-parse<0.5.0,>=0.4.0 in /opt/anaconda3/lib/python3.11/site-packages (from llama-index-readers-llama-parse<0.2.0,>=0.1.2->llama_index) (0.4.4)\n",
      "Requirement already satisfied: annotated-types>=0.4.0 in /opt/anaconda3/lib/python3.11/site-packages (from pydantic<3,>=1->langchain) (0.7.0)\n",
      "Requirement already satisfied: pydantic-core==2.18.3 in /opt/anaconda3/lib/python3.11/site-packages (from pydantic<3,>=1->langchain) (2.18.3)\n",
      "Requirement already satisfied: six>=1.5 in /opt/anaconda3/lib/python3.11/site-packages (from python-dateutil>=2.8.2->pandas) (1.16.0)\n",
      "Requirement already satisfied: charset-normalizer<4,>=2 in /opt/anaconda3/lib/python3.11/site-packages (from requests<3,>=2->langchain) (2.0.4)\n",
      "Requirement already satisfied: idna<4,>=2.5 in /opt/anaconda3/lib/python3.11/site-packages (from requests<3,>=2->langchain) (3.4)\n",
      "Requirement already satisfied: urllib3<3,>=1.21.1 in /opt/anaconda3/lib/python3.11/site-packages (from requests<3,>=2->langchain) (2.0.7)\n",
      "Requirement already satisfied: certifi>=2017.4.17 in /opt/anaconda3/lib/python3.11/site-packages (from requests<3,>=2->langchain) (2024.2.2)\n",
      "Requirement already satisfied: greenlet!=0.4.17 in /opt/anaconda3/lib/python3.11/site-packages (from SQLAlchemy<3,>=1.4->langchain) (3.0.1)\n",
      "Requirement already satisfied: soupsieve>1.2 in /opt/anaconda3/lib/python3.11/site-packages (from beautifulsoup4<5.0.0,>=4.12.3->llama-index-readers-file<0.2.0,>=0.1.4->llama_index) (2.5)\n",
      "Requirement already satisfied: jsonpointer>=1.9 in /opt/anaconda3/lib/python3.11/site-packages (from jsonpatch<2.0,>=1.33->langchain-core<0.3.0,>=0.2.0->langchain) (2.1)\n",
      "Requirement already satisfied: anyio in /opt/anaconda3/lib/python3.11/site-packages (from httpx->llama-index-core==0.10.42->llama_index) (4.2.0)\n",
      "Requirement already satisfied: httpcore==1.* in /opt/anaconda3/lib/python3.11/site-packages (from httpx->llama-index-core==0.10.42->llama_index) (1.0.5)\n",
      "Requirement already satisfied: sniffio in /opt/anaconda3/lib/python3.11/site-packages (from httpx->llama-index-core==0.10.42->llama_index) (1.3.0)\n",
      "Requirement already satisfied: h11<0.15,>=0.13 in /opt/anaconda3/lib/python3.11/site-packages (from httpcore==1.*->httpx->llama-index-core==0.10.42->llama_index) (0.14.0)\n",
      "Requirement already satisfied: click in /opt/anaconda3/lib/python3.11/site-packages (from nltk<4.0.0,>=3.8.1->llama-index-core==0.10.42->llama_index) (8.1.7)\n",
      "Requirement already satisfied: joblib in /opt/anaconda3/lib/python3.11/site-packages (from nltk<4.0.0,>=3.8.1->llama-index-core==0.10.42->llama_index) (1.2.0)\n",
      "Requirement already satisfied: regex>=2021.8.3 in /opt/anaconda3/lib/python3.11/site-packages (from nltk<4.0.0,>=3.8.1->llama-index-core==0.10.42->llama_index) (2023.12.25)\n",
      "Requirement already satisfied: distro<2,>=1.7.0 in /opt/anaconda3/lib/python3.11/site-packages (from openai>=1.1.0->llama-index-core==0.10.42->llama_index) (1.8.0)\n",
      "Requirement already satisfied: mypy-extensions>=0.3.0 in /opt/anaconda3/lib/python3.11/site-packages (from typing-inspect>=0.8.0->llama-index-core==0.10.42->llama_index) (1.0.0)\n",
      "Requirement already satisfied: marshmallow<4.0.0,>=3.18.0 in /opt/anaconda3/lib/python3.11/site-packages (from dataclasses-json->llama-index-core==0.10.42->llama_index) (3.21.2)\n"
     ]
    }
   ],
   "source": [
    "!pip install langchain llama_index pandas plotly"
   ]
  },
  {
   "cell_type": "code",
   "execution_count": 2,
   "id": "1c4c56ee-ef7b-41bf-abbf-0b40ffd4ca8d",
   "metadata": {},
   "outputs": [],
   "source": [
    "import os\n",
    "from collections import defaultdict\n",
    "from langchain.embeddings import OpenAIEmbeddings\n",
    "from langchain.llms import OpenAI\n",
    "from llama_index.core import VectorStoreIndex, SimpleDirectoryReader, Document, PromptTemplate\n",
    "from langchain_core.prompts import PromptTemplate\n",
    "from langchain.chains import LLMChain\n",
    "from llama_index.core import StorageContext, load_index_from_storage\n",
    "from llama_index.core import Settings\n",
    "Settings.chunk_size = 1024\n",
    "Settings.chunk_overlap = 100"
   ]
  },
  {
   "cell_type": "code",
   "execution_count": 3,
   "id": "49fd8b8e-2e4e-4c2e-8b18-5a5cb514c842",
   "metadata": {},
   "outputs": [],
   "source": [
    "# Set API keys and configurations\n",
    "os.environ[\"OPENAI_API_KEY\"] = \"your_openai_api_key\"# your_openai_api_key"
   ]
  },
  {
   "cell_type": "code",
   "execution_count": 4,
   "id": "898f566c-c07e-4110-8ba3-1271733f0f90",
   "metadata": {},
   "outputs": [
    {
     "name": "stderr",
     "output_type": "stream",
     "text": [
      "/opt/anaconda3/lib/python3.11/site-packages/langchain_core/_api/deprecation.py:119: LangChainDeprecationWarning: The class `OpenAIEmbeddings` was deprecated in LangChain 0.0.9 and will be removed in 0.3.0. An updated version of the class exists in the langchain-openai package and should be used instead. To use it run `pip install -U langchain-openai` and import as `from langchain_openai import OpenAIEmbeddings`.\n",
      "  warn_deprecated(\n",
      "/opt/anaconda3/lib/python3.11/site-packages/langchain_core/_api/deprecation.py:119: LangChainDeprecationWarning: The class `OpenAI` was deprecated in LangChain 0.0.10 and will be removed in 0.3.0. An updated version of the class exists in the langchain-openai package and should be used instead. To use it run `pip install -U langchain-openai` and import as `from langchain_openai import OpenAI`.\n",
      "  warn_deprecated(\n"
     ]
    }
   ],
   "source": [
    "# Initialize embeddings and LLM\n",
    "embedding_model = OpenAIEmbeddings(model=\"text-embedding-ada-002\")\n",
    "llm = OpenAI(temperature=0, model_name=\"text-davinci-003\")"
   ]
  },
  {
   "cell_type": "code",
   "execution_count": 5,
   "id": "e983c9b3-d202-4df9-9f30-93c63a40baa7",
   "metadata": {},
   "outputs": [],
   "source": [
    "mpath = './'\n",
    "# Load log lines from text file\n",
    "with open(mpath + 'demofile1.txt', 'r') as file:\n",
    "    log_lines = file.readlines()\n",
    "    \n",
    "log_lines = [j.rstrip('\\n') for j in log_lines]\n",
    "log_lines = [j for j in log_lines if j]"
   ]
  },
  {
   "cell_type": "code",
   "execution_count": 6,
   "id": "bb98d5a3-5505-43be-be90-89bd474b67d4",
   "metadata": {},
   "outputs": [],
   "source": [
    "# Convert log lines to LlamaIndex documents\n",
    "documents = [Document(text=line.strip(), metadata={'key':i}) for i, line in enumerate(log_lines)]\n",
    "\n",
    "# Initialize LlamaIndex\n",
    "index = VectorStoreIndex(documents, embed_fn=embedding_model.embed_query)"
   ]
  },
  {
   "cell_type": "code",
   "execution_count": 7,
   "id": "c27a4f19-ae1e-468b-bc72-bc18fc5a71ff",
   "metadata": {},
   "outputs": [
    {
     "name": "stdout",
     "output_type": "stream",
     "text": [
      "There is a potential security vulnerability detected in module_4 and a critical issue of low disk space in module_1.\n"
     ]
    }
   ],
   "source": [
    "query_engine = index.as_query_engine(similarity_top_k=2)\n",
    "response = query_engine.query(\"describe any issue present\")\n",
    "print(response)"
   ]
  },
  {
   "cell_type": "code",
   "execution_count": 8,
   "id": "a1252a70-328b-469e-8b69-ec311cdd67a4",
   "metadata": {},
   "outputs": [
    {
     "name": "stdout",
     "output_type": "stream",
     "text": [
      "Log Line      : 2024-06-02T13:10:20Z [WARNING] High temperature alert in chassis, current temperature: 60°C.\n",
      "Matching Score: 0.7616678536254086\n",
      "Log Line      : Jun 3 10:15:09 Router1 %QOS-5-QOS_FLOW_MONITORING: 80% of bandwidth utilization reached on GigabitEthernet0/0\n",
      "Matching Score: 0.7525510321214063\n",
      "Log Line      : Jun 3 10:15:00 Router1 %LINK-5-CHANGED: Interface GigabitEthernet0/0, changed state to administratively down\n",
      "Matching Score: 0.7514924549799252\n"
     ]
    }
   ],
   "source": [
    "retriever = index.as_retriever(similarity_top_k=10)\n",
    "# please use any to see if this can match or find issues in available logs\n",
    "\"\"\"\n",
    "Firmware corruption\n",
    "Overheating hardware\n",
    "Misconfigured routing protocols\n",
    "VPN tunnel failures\n",
    "Port forwarding errors\n",
    "VLAN misconfiguration\n",
    "Spanning tree loops\n",
    "Port security violations\n",
    "Faulty switch fabric\n",
    "Insufficient PoE power\n",
    "hardware\n",
    "vulnerability\n",
    "\"\"\"\n",
    "nodes = retriever.retrieve(\"hardware\")\n",
    "nodes = [j for j in nodes if j.score>0.7]\n",
    "nodes = sorted(nodes, key=lambda x:x.score, reverse=True)[:3]\n",
    "for n in nodes:\n",
    "    print(f'Log Line      : {n.text}')\n",
    "    print(f'Matching Score: {n.score}')"
   ]
  },
  {
   "cell_type": "code",
   "execution_count": 9,
   "id": "e60dd634-3bce-4299-a76d-85182fd6debd",
   "metadata": {},
   "outputs": [],
   "source": [
    "with open(mpath + 'signatures.txt', 'r') as file:\n",
    "    signatures = file.readlines()\n",
    "signatures = [j.replace('\\n', '') for j in signatures]\n",
    "signatures = ['####' if j=='' else j for j in signatures]\n",
    "signatures = ' \\n '.join(signatures)\n",
    "signatures = signatures.split('####')\n",
    "signatures = [j for j in signatures if j not in ('', ' \\n ', '####')]"
   ]
  },
  {
   "cell_type": "code",
   "execution_count": 10,
   "id": "acb673da-5851-4ab3-a195-f9b8bb4d092d",
   "metadata": {},
   "outputs": [],
   "source": [
    "# Define a search function\n",
    "def search_logs(query, top_k=5, thre = 0.7):\n",
    "    retriever = index.as_retriever(similarity_top_k=top_k*3)\n",
    "    nodes = retriever.retrieve(query) #vulnerability\n",
    "    nodes = [j for j in nodes if j.score>thre]\n",
    "    nodes = sorted(nodes, key=lambda x:x.score, reverse=True)[:top_k]\n",
    "    #nodes = [j.text for j in nodes]\n",
    "\n",
    "    return nodes"
   ]
  },
  {
   "cell_type": "code",
   "execution_count": 11,
   "id": "f1cfa856-32b3-4a1a-8d9b-a231958c0b3e",
   "metadata": {},
   "outputs": [],
   "source": [
    "# Function to generate a report using Langchain\n",
    "def generate_report(query, retrieved_docs):\n",
    "    prompt_template = \"\"\"\n",
    "    Based on the following query and logs:\n",
    "    Query: {query}\n",
    "    Logs: {logs}\n",
    "    Generate a detailed report, describe the problem and recommend a solution. \n",
    "    please remove those logs that are not relevant to query\n",
    "    \"\"\"\n",
    "    #prompt = PromptTemplate.from_template(prompt_template)\n",
    "    #message = prompt.format(query=query, logs=\"\\n\"+\"\\n\".join([doc.text for doc in retrieved_docs]))\n",
    "    prompt = PromptTemplate.from_template(prompt_template)\n",
    "    llm = OpenAI(temperature=0,model_name=\"gpt-3.5-turbo-instruct\")\n",
    "    chain = LLMChain(llm=llm, prompt=prompt)\n",
    "    response = chain.run({\"query\": query, \"logs\": \" \".join([doc.text for doc in retrieved_docs])})\n",
    "    return response"
   ]
  },
  {
   "cell_type": "code",
   "execution_count": 12,
   "id": "a0b876a7-0f18-4f39-97d1-6798270eb1b4",
   "metadata": {},
   "outputs": [
    {
     "name": "stderr",
     "output_type": "stream",
     "text": [
      "/opt/anaconda3/lib/python3.11/site-packages/langchain_core/_api/deprecation.py:119: LangChainDeprecationWarning: The class `LLMChain` was deprecated in LangChain 0.1.17 and will be removed in 0.3.0. Use RunnableSequence, e.g., `prompt | llm` instead.\n",
      "  warn_deprecated(\n",
      "/opt/anaconda3/lib/python3.11/site-packages/langchain_core/_api/deprecation.py:119: LangChainDeprecationWarning: The method `Chain.run` was deprecated in langchain 0.1.0 and will be removed in 0.3.0. Use invoke instead.\n",
      "  warn_deprecated(\n"
     ]
    },
    {
     "name": "stdout",
     "output_type": "stream",
     "text": [
      "Relevant Logs: \n",
      "2024-06-01T12:00:00Z ERROR module_3 Unexpected null pointer exception occurred.\n",
      "2024-06-01T12:15:00Z ERROR module_1 Disk space critically low.\n",
      "2024-06-01T12:05:00Z WARN module_4 Potential security vulnerability detected.\n",
      "\n",
      "\n",
      "Report:\n",
      "\n",
      "Problem:\n",
      "The query \"Error in module 3\" indicates that there is an error occurring in module 3. The logs provided show three different errors, but only one of them is related to module 3. The other two errors are not relevant to the query and should be removed.\n",
      "\n",
      "Solution:\n",
      "To address the issue, the logs that are not relevant to the query should be removed. This will help to narrow down the search and focus on the specific error in module 3. Once the irrelevant logs are removed, the remaining logs can be analyzed to identify the root cause of the error in module 3.\n",
      "\n",
      "Detailed Report:\n",
      "The logs provided show three different errors occurring at different times. The first error, \"Unexpected null pointer exception occurred\" is related to module 3 and occurred at 2024-06-01T12:00:00Z. This error indicates that there is a null pointer exception occurring in module 3, which could be due to a coding error or a missing value.\n",
      "\n",
      "The second error, \"Disk space critically low\" is related to module 1 and occurred at 2024-06-01T12:15:00Z. This error is not relevant to the query and should be removed. It could be a\n"
     ]
    }
   ],
   "source": [
    "# Example usage for search and reporting\n",
    "query = \"Error in module 3\"\n",
    "retrieved_logs = search_logs(query, top_k=3, thre = 0.7)\n",
    "report = generate_report(query, retrieved_logs)\n",
    "log_text = '\\n'.join([j.text for j in retrieved_logs])\n",
    "print(f\"Relevant Logs: \\n{log_text}\\n\\n{report}\")"
   ]
  },
  {
   "cell_type": "code",
   "execution_count": 13,
   "id": "9f3dec9a-684c-41ae-be7f-50ffab92e12a",
   "metadata": {},
   "outputs": [
    {
     "name": "stdout",
     "output_type": "stream",
     "text": [
      "Related Logs Report: \n",
      "Problem:\n",
      "The query \"Null pointer exception\" is causing a null pointer exception error in the system. This error is causing critical issues such as unexpected router reboots, memory allocation errors, and logging to host failures.\n",
      "\n",
      "Logs:\n",
      "2024-06-01T12:00:00Z ERROR module_3 Unexpected null pointer exception occurred.\n",
      "2024-06-02T13:30:40Z [CRITICAL] Router rebooted unexpectedly, last log messages may indicate cause.\n",
      "2024-06-02T13:20:30Z [ERROR] Memory allocation error on process 'httpd', device may be under a DoS attack.\n",
      "\n",
      "Detailed Report:\n",
      "Based on the logs provided, it can be seen that the null pointer exception error occurred on 2024-06-01T12:00:00Z in module_3. This error is causing critical issues such as unexpected router reboots and memory allocation errors. The error is also affecting the logging system, as seen in the logs on Jun 3 10:15:00, where the logging to host 192.168.1.3 stopped.\n",
      "\n",
      "The null pointer exception error is a common error in programming and can occur due to various reasons such as uninitialized variables, incorrect use\n"
     ]
    }
   ],
   "source": [
    "# Find logs related to a specific problem\n",
    "problem_description = \"Null pointer exception\"\n",
    "query = f\"Find logs related to the following problem: {problem_description}\"\n",
    "related_logs = search_logs(query, top_k=5, thre = 0.7)\n",
    "related_logs_report = generate_report(problem_description, related_logs)\n",
    "print(\"Related Logs Report:\", related_logs_report)"
   ]
  },
  {
   "cell_type": "code",
   "execution_count": 14,
   "id": "dd4eff99-444d-4f47-8732-fa4f68c1a33f",
   "metadata": {},
   "outputs": [],
   "source": [
    "# Anomaly Detection"
   ]
  },
  {
   "cell_type": "code",
   "execution_count": 15,
   "id": "a4bff58e-9a54-4ff5-941b-824b82b529c1",
   "metadata": {},
   "outputs": [],
   "source": [
    "# searching exhaustively for log anomalies\n",
    "# this can be optimized for performance by storing embeddings for signatures from past anomalies\n",
    "anomalies = []\n",
    "for sig in signatures:\n",
    "    sig = sig.strip()\n",
    "    nodes = search_logs(sig, top_k=3, thre = 0.7)\n",
    "    anomalies.append([sig.split(' \\n ')[0],  nodes])"
   ]
  },
  {
   "cell_type": "code",
   "execution_count": 16,
   "id": "d5112403-b165-42af-8198-14c201652198",
   "metadata": {},
   "outputs": [
    {
     "data": {
      "text/plain": [
       "['Hardware and Configuration Errors',\n",
       " [NodeWithScore(node=Document(id_='a8a9bb6d-8d00-4af5-adf6-cccbe4575a8f', embedding=None, metadata={'key': 60}, excluded_embed_metadata_keys=[], excluded_llm_metadata_keys=[], relationships={}, text='Jun 3 10:15:00 Router1 %LINK-5-CHANGED: Interface GigabitEthernet0/1, changed state to administratively down', start_char_idx=None, end_char_idx=None, text_template='{metadata_str}\\n\\n{content}', metadata_template='{key}: {value}', metadata_seperator='\\n'), score=0.8233572312546201),\n",
       "  NodeWithScore(node=Document(id_='4828ca96-e706-4cfb-8f56-dad2797f9659', embedding=None, metadata={'key': 38}, excluded_embed_metadata_keys=[], excluded_llm_metadata_keys=[], relationships={}, text='Jun 3 10:15:00 Router1 %LINK-5-CHANGED: Interface GigabitEthernet0/0, changed state to administratively down', start_char_idx=None, end_char_idx=None, text_template='{metadata_str}\\n\\n{content}', metadata_template='{key}: {value}', metadata_seperator='\\n'), score=0.8231474316130085),\n",
       "  NodeWithScore(node=Document(id_='8eaeced8-d1e9-4e96-ba1e-97ac6f706120', embedding=None, metadata={'key': 59}, excluded_embed_metadata_keys=[], excluded_llm_metadata_keys=[], relationships={}, text='Jun 3 10:15:00 Router1 %LINK-5-CHANGED: Interface GigabitEthernet0/0, changed state to administratively down', start_char_idx=None, end_char_idx=None, text_template='{metadata_str}\\n\\n{content}', metadata_template='{key}: {value}', metadata_seperator='\\n'), score=0.8222006872051204)]]"
      ]
     },
     "execution_count": 16,
     "metadata": {},
     "output_type": "execute_result"
    }
   ],
   "source": [
    "anomalies[0]"
   ]
  },
  {
   "cell_type": "code",
   "execution_count": 17,
   "id": "f86c90b5-ea9a-4bad-b7da-660d72aec8c1",
   "metadata": {},
   "outputs": [],
   "source": [
    "# Anomalies has matched to multiple issues, need disambiguation, you can write complex disambiguation and replace this\n",
    "common_nodes = defaultdict(list)\n",
    "for ar in anomalies:\n",
    "    for i in ar[1]:\n",
    "        common_nodes[i.node.metadata['key']].append([ar[0], i.score])"
   ]
  },
  {
   "cell_type": "code",
   "execution_count": 18,
   "id": "8eca796b-bf8c-44f8-9cd6-17da415063fc",
   "metadata": {},
   "outputs": [
    {
     "name": "stdout",
     "output_type": "stream",
     "text": [
      "['Network Latency Issues', 0.8201082532191438]\n",
      "['Packet Loss Issues', 0.8129348685243899]\n",
      "['Broadcast Storm Issues', 0.7936497638372606]\n",
      "['Traffic Overload', 0.8323136167370643]\n",
      "['Overutilization of Resources', 0.842460503126184]\n",
      "['Underutilization of Resources', 0.8267748506155755]\n"
     ]
    }
   ],
   "source": [
    "for i in common_nodes[19]:\n",
    "    print(i)"
   ]
  },
  {
   "cell_type": "code",
   "execution_count": 19,
   "id": "64ac86da-6705-446c-a5f8-2ae0d126388e",
   "metadata": {},
   "outputs": [
    {
     "name": "stdout",
     "output_type": "stream",
     "text": [
      "Jun 3 10:15:09 Router1 %QOS-5-QOS_FLOW_MONITORING: 80% of bandwidth utilization reached on GigabitEthernet0/0\n"
     ]
    }
   ],
   "source": [
    "print(documents[19].text)"
   ]
  },
  {
   "cell_type": "code",
   "execution_count": 20,
   "id": "99a65640-c329-4471-a3ad-c53edac26732",
   "metadata": {},
   "outputs": [],
   "source": [
    "nodes_best_match = {k:max(v, key=lambda x:x[1]) for k,v in common_nodes.items()}"
   ]
  },
  {
   "cell_type": "code",
   "execution_count": 21,
   "id": "05364a17-6603-4666-82e6-4d42602cfd88",
   "metadata": {},
   "outputs": [
    {
     "data": {
      "text/plain": [
       "['Overutilization of Resources', 0.842460503126184]"
      ]
     },
     "execution_count": 21,
     "metadata": {},
     "output_type": "execute_result"
    }
   ],
   "source": [
    "nodes_best_match[19]"
   ]
  },
  {
   "cell_type": "code",
   "execution_count": 22,
   "id": "3d44f25a-a0c6-4389-ad9c-f632badb900f",
   "metadata": {},
   "outputs": [],
   "source": [
    "anomalies_selected = []\n",
    "for ar in anomalies:\n",
    "    selected_recs = []\n",
    "    for i in ar[1]:\n",
    "        rec_no = i.metadata['key']\n",
    "        if rec_no in nodes_best_match:\n",
    "            cat = nodes_best_match[rec_no][0]\n",
    "            if ar[0] != cat:\n",
    "                continue\n",
    "        selected_recs.append(i)\n",
    "    anomalies_selected.append([ar[0], selected_recs])\n",
    "\n",
    "anomalies_selected = [i for i in anomalies_selected if i[1]]"
   ]
  },
  {
   "cell_type": "code",
   "execution_count": 23,
   "id": "1494e2a6-682c-4162-ad7f-437c0df1eb70",
   "metadata": {},
   "outputs": [],
   "source": [
    "# Plot anomalies\n",
    "from sklearn.manifold import TSNE\n",
    "import pandas as pd\n",
    "import plotly.io as pio\n",
    "import plotly.express as px\n",
    "pio.renderers.default='browser'"
   ]
  },
  {
   "cell_type": "code",
   "execution_count": 24,
   "id": "40a356c5-3f29-4af8-89eb-a5cfb466fe15",
   "metadata": {},
   "outputs": [],
   "source": [
    "df = pd.DataFrame()\n",
    "\n",
    "for a_s in anomalies_selected:\n",
    "    for i in a_s[1]:\n",
    "        dfp = pd.DataFrame([embedding_model.embed_query(i.node.text)], [a_s[0]])\n",
    "        df = pd.concat([df, dfp])"
   ]
  },
  {
   "cell_type": "code",
   "execution_count": 25,
   "id": "1bb3e518-fd6e-43a5-b787-ae320b7fcccd",
   "metadata": {},
   "outputs": [
    {
     "data": {
      "text/plain": [
       "(25, 2)"
      ]
     },
     "execution_count": 25,
     "metadata": {},
     "output_type": "execute_result"
    }
   ],
   "source": [
    " # We want to get TSNE embedding with 2 dimensions\n",
    "n_components = 2\n",
    "tsne = TSNE(n_components, perplexity=df.shape[0]//2)\n",
    "tsne_result = tsne.fit_transform(df.values)\n",
    "tsne_result.shape\n",
    "# (25, 2)\n",
    "# Two dimensions for each anomaly"
   ]
  },
  {
   "cell_type": "code",
   "execution_count": 26,
   "id": "3c2fc6ef-4331-49ae-8ed7-46e9c5a53d4e",
   "metadata": {},
   "outputs": [],
   "source": [
    "#Please check your browser for the plot, hovering over scatter dots should reveal information\n",
    "fig = px.scatter(x=tsne_result[:, 0], \n",
    "                 y=tsne_result[:, 1], \n",
    "                 color=df.index\n",
    "                 )\n",
    "fig.update_traces(marker={'size': 50})\n",
    "fig.update_layout(\n",
    "    title=\"t-SNE visualization of Anomaly Detection\",\n",
    "    xaxis_title=\"First t-SNE\",\n",
    "    yaxis_title=\"Second t-SNE\",\n",
    ")\n",
    "fig.show()"
   ]
  },
  {
   "cell_type": "code",
   "execution_count": 27,
   "id": "3bf2df89-982d-4202-a59e-5d41ade2845d",
   "metadata": {},
   "outputs": [],
   "source": [
    "# Generate report for each anomaly\n",
    "anomalies_reports = []\n",
    "for ano in anomalies_selected:\n",
    "    anomaly_report = generate_report(ano[0], ano[1])\n",
    "    anomalies_reports.append([ ano[0], ano[1], anomaly_report])"
   ]
  },
  {
   "cell_type": "code",
   "execution_count": 28,
   "id": "1db2547b-785e-426d-a991-7b3c39bda73d",
   "metadata": {},
   "outputs": [
    {
     "name": "stdout",
     "output_type": "stream",
     "text": [
      "Hardware and Configuration Errors\n",
      "Anomaly Report: \n",
      "Jun 3 10:15:00 Router1 %LINK-5-CHANGED: Interface GigabitEthernet0/1, changed state to administratively down\n",
      "Jun 3 10:15:00 Router1 %LINK-5-CHANGED: Interface GigabitEthernet0/0, changed state to administratively down\n",
      "Jun 3 10:15:00 Router1 %LINK-5-CHANGED: Interface GigabitEthernet0/0, changed state to administratively down\n",
      "\n",
      "\n",
      "Report:\n",
      "\n",
      "Problem:\n",
      "The logs show that there are multiple interface errors on Router1, specifically on the GigabitEthernet0/0 and GigabitEthernet0/1 interfaces. These errors are causing the interfaces to be administratively down, which can result in network connectivity issues and potential downtime.\n",
      "\n",
      "Possible Causes:\n",
      "1. Hardware failure: The errors could be caused by a hardware failure on the interfaces, such as a faulty cable or port.\n",
      "2. Configuration errors: The errors could be a result of incorrect configuration settings on the interfaces.\n",
      "3. Software bugs: The errors could be caused by software bugs or glitches in the router's operating system.\n",
      "\n",
      "Recommendations:\n",
      "1. Check hardware: The first step would be to check the physical connections and hardware components of the affected interfaces. This includes checking for loose cables, damaged ports, and any other visible signs of hardware failure. If any issues are found, the hardware should be replaced or repaired.\n",
      "2. Review configuration: If the hardware is functioning properly, the next step would be to review the configuration settings on the affected interfaces. This includes checking for any misconfigured settings or conflicting configurations. Any errors should be corrected and the configuration should be saved.\n",
      "3. Update software: If the hardware and configuration are both in good condition, the\n",
      "\n",
      "-----------------\n",
      "\n",
      "Security and Performance Issues\n",
      "Anomaly Report: \n",
      "Jun 3 10:15:02 Router1 %VPN-5-NEGOTIATION_DOWN: IPSec connection with peer 203.0.113.2 on interface GigabitEthernet0/0 was down, reason: Phase 1 failed: IKE authentication credentials are unacceptable\n",
      "Jun 3 10:15:02 Router1 %VPN-5-NEGOTIATION_DOWN: IPSec connection with peer 203.0.113.2 on interface GigabitEthernet0/0 was down, reason: Phase 1 failed: IKE authentication credentials are unacceptable\n",
      "Jun 3 10:15:06 Router1 %VPN-5-NEGOTIATION_DOWN: IPSec connection with peer 203.0.113.2 on interface GigabitEthernet0/0 was down, reason: Phase 1 failed: IKE authentication credentials are unacceptable\n",
      "\n",
      "\n",
      "Report:\n",
      "\n",
      "Title: Security and Performance Issues with IPSec Connection on Router1\n",
      "\n",
      "Problem Description:\n",
      "The IPSec connection with peer 203.0.113.2 on interface GigabitEthernet0/0 on Router1 has been experiencing frequent disconnections. The logs show that the reason for the disconnections is due to Phase 1 failure with the error message \"IKE authentication credentials are unacceptable\". This indicates a security issue with the authentication credentials being used for the IPSec connection.\n",
      "\n",
      "Recommendation:\n",
      "1. Check and Verify Authentication Credentials:\n",
      "The first step in resolving this issue is to check and verify the authentication credentials being used for the IPSec connection. This includes the pre-shared key, digital certificates, and any other authentication methods being used. Make sure that the credentials are correct and match on both ends of the connection.\n",
      "\n",
      "2. Check for Configuration Errors:\n",
      "It is possible that there may be configuration errors in the IPSec settings on Router1. Check the configuration and make sure that all the necessary parameters are correctly configured. This includes the encryption algorithm, authentication method, and Diffie-Hellman group. Any mismatch in these settings can cause authentication failures.\n",
      "\n",
      "3. Check for Time Synchronization:\n",
      "Time synchronization is crucial for IPSec connections as it ensures that the authentication credentials are\n",
      "\n",
      "-----------------\n",
      "\n",
      "Hardware Malfunctions and Firmware Issues\n",
      "Anomaly Report: \n",
      "Jun 3 10:15:00 Router1 %SYS-5-RESTART: System restarted --\n",
      "Jun 3 10:15:00 Router1 %SYS-5-RESTART: System restarted --\n",
      "\n",
      "\n",
      "Report:\n",
      "\n",
      "Problem:\n",
      "The logs show that the router, named Router1, has experienced a system restart on June 3 at 10:15:00. This is indicated by the %SYS-5-RESTART message, which is a system message that is generated when the router restarts. This indicates that there may be a hardware malfunction or firmware issue with the router.\n",
      "\n",
      "Possible Causes:\n",
      "1. Hardware Malfunction: A hardware malfunction can occur due to various reasons such as faulty hardware components, overheating, or power supply issues. This can lead to system crashes and restarts.\n",
      "2. Firmware Issues: Firmware is the software that is embedded in the hardware of the router. If there is a bug or glitch in the firmware, it can cause the router to malfunction and restart.\n",
      "\n",
      "Recommendation:\n",
      "1. Check Hardware Components: The first step in resolving this issue is to check the hardware components of the router. This includes checking for any loose connections, damaged components, or overheating. If any issues are found, they should be addressed immediately.\n",
      "2. Update Firmware: If the hardware components are functioning properly, the next step is to update the firmware of the router. This can be done by downloading the latest firmware from the manufacturer's website and following the instructions for\n",
      "\n",
      "-----------------\n",
      "\n",
      "Security Breaches and Configuration Errors\n",
      "Anomaly Report: \n",
      "Jun 3 10:15:04 Router1 %IDS-6-ATTACK: Detected possible SSH brute force attack from 192.168.2.100, source port 22, to 192.168.1.1, destination port 22\n",
      "\n",
      "\n",
      "Report:\n",
      "\n",
      "Problem:\n",
      "The logs show that a possible SSH brute force attack was detected on Router1 from IP address 192.168.2.100. This indicates a potential security breach and configuration error on the network.\n",
      "\n",
      "Analysis:\n",
      "The logs indicate that an attacker attempted to gain unauthorized access to the network by repeatedly trying to connect to the SSH service on Router1. This type of attack is known as a brute force attack, where the attacker uses automated tools to try different combinations of usernames and passwords until they are able to successfully login.\n",
      "\n",
      "Recommendation:\n",
      "To prevent such attacks and ensure network security, it is recommended to implement the following measures:\n",
      "\n",
      "1. Strong Password Policy: Enforce a strong password policy for all devices on the network, including Router1. This should include a combination of uppercase and lowercase letters, numbers, and special characters. Regularly change passwords to prevent them from being compromised.\n",
      "\n",
      "2. Limit SSH Access: Restrict SSH access to only authorized users and devices. This can be done by configuring access control lists (ACLs) on the router to allow only specific IP addresses or networks to connect to the SSH service.\n",
      "\n",
      "3. Use SSH Keys: Instead of relying on passwords, use SSH keys for authentication. This adds an extra layer of security as the attacker\n",
      "\n",
      "-----------------\n",
      "\n",
      "Network Latency Issues\n",
      "Anomaly Report: \n",
      "Jun 3 10:15:09 Router1 %QOS-5-OUT_OF_BUFFERS: Out of buffers in the egress queue on GigabitEthernet0/1\n",
      "\n",
      "\n",
      "Report:\n",
      "\n",
      "Problem Description:\n",
      "The query \"Network Latency Issues\" indicates that there are issues with network latency, which can cause delays and slow down network performance. The logs provided show an error message related to buffer shortage in the egress queue on GigabitEthernet0/1. This indicates that there is a bottleneck in the network, causing packets to be dropped and resulting in network latency issues.\n",
      "\n",
      "Possible Causes:\n",
      "1. Insufficient Buffer Capacity: The error message \"Out of buffers in the egress queue\" suggests that there is not enough buffer capacity to handle the amount of traffic passing through GigabitEthernet0/1. This can be caused by a sudden increase in network traffic or inadequate buffer allocation.\n",
      "\n",
      "2. Network Congestion: Another possible cause of network latency issues is network congestion. This occurs when there is a high volume of traffic on the network, causing delays and packet loss.\n",
      "\n",
      "3. Misconfiguration: It is also possible that there is a misconfiguration in the network, such as incorrect QoS settings or mismatched buffer sizes, which can lead to network latency issues.\n",
      "\n",
      "Solution:\n",
      "1. Increase Buffer Capacity: To address the issue of insufficient buffer capacity, the buffer size on GigabitEthernet0/1 can be increased. This will allow for more packets to\n",
      "\n",
      "-----------------\n",
      "\n",
      "Link Flapping Issues\n",
      "Anomaly Report: \n",
      "Jun 3 10:15:00 Router1 %LINK-3-UPDOWN: Interface GigabitEthernet0/0, changed state to down\n",
      "Jun 3 10:15:00 Router1 %LINK-5-CHANGED: Interface GigabitEthernet0/1, changed state to administratively down\n",
      "\n",
      "\n",
      "Report:\n",
      "\n",
      "Problem:\n",
      "The logs show that there is an issue with link flapping on the router. This means that the interface is constantly going up and down, which can cause network connectivity issues and disrupt communication.\n",
      "\n",
      "Explanation:\n",
      "The first log entry shows that the interface GigabitEthernet0/0 has changed state to down. This means that the interface is no longer active and cannot transmit or receive data. The second log entry shows that the interface GigabitEthernet0/1 has changed state to administratively down. This means that the interface has been manually disabled by an administrator.\n",
      "\n",
      "Recommendation:\n",
      "To resolve this issue, the administrator should check the physical connections of the interfaces and make sure they are secure. If the issue persists, the administrator should check for any errors or misconfigurations on the interfaces. It is also recommended to check for any network loops or excessive traffic on the affected interfaces. If necessary, the interfaces can be reset or replaced to resolve the link flapping issue. Additionally, implementing link aggregation or using a different interface can help improve network stability. Regular monitoring and maintenance of the network can also prevent link flapping issues in the future.\n",
      "\n",
      "-----------------\n",
      "\n",
      "Unauthorized Access\n",
      "Anomaly Report: \n",
      "Jun 3 10:15:00 Router1 %SEC-6-IPACCESSLOGP: Security violation detected from source IP 192.168.2.100 to destination IP 192.168.1.1, attempting unauthorized access\n",
      "Jun 3 10:15:00 Router1 %SEC-6-IPACCESSLOGP: Security violation detected from source IP 192.168.2.100 to destination IP 192.168.1.1, attempting unauthorized access\n",
      "Jun 3 10:15:08 Router1 %IDS-6-ATTACK: Detected multiple SSH connection attempts from 192.168.2.100 within a short time period, potential brute force attack\n",
      "\n",
      "\n",
      "Report:\n",
      "\n",
      "Problem:\n",
      "The logs show that there has been an unauthorized access attempt from source IP 192.168.2.100 to destination IP 192.168.1.1. This is a security violation and could potentially lead to a breach of the network. Additionally, there have been multiple SSH connection attempts from the same source IP within a short time period, indicating a potential brute force attack.\n",
      "\n",
      "Solution:\n",
      "1. Investigate the source IP 192.168.2.100: The first step would be to investigate the source IP and determine if it is a legitimate user or a malicious actor. If it is a legitimate user, then it could be a case of a misconfigured device or a compromised account. If it is a malicious actor, then immediate action needs to be taken to block their access and prevent further attacks.\n",
      "\n",
      "2. Review access control policies: It is important to review the access control policies in place to ensure that only authorized users have access to the network. This includes implementing strong password policies, limiting access to sensitive resources, and regularly reviewing and updating access control lists.\n",
      "\n",
      "3. Enable intrusion detection and prevention systems: The logs show that there have been multiple SSH connection attempts from the same source IP within a short time period. This could be a\n",
      "\n",
      "-----------------\n",
      "\n",
      "Security Misconfiguration\n",
      "Anomaly Report: \n",
      "2024-06-01T12:05:00Z WARN module_4 Potential security vulnerability detected.\n",
      "\n",
      "\n",
      "Report:\n",
      "\n",
      "Title: Security Misconfiguration Detected\n",
      "\n",
      "Problem:\n",
      "The query for Security Misconfiguration has detected a potential security vulnerability in the system. The logs show a warning message that indicates a potential security issue. This could lead to unauthorized access, data breaches, and other security threats.\n",
      "\n",
      "Detailed Description:\n",
      "The logs show that on 2024-06-01 at 12:05:00 UTC, a warning message was generated by module_4 indicating a potential security vulnerability. This warning message is a clear indication that there is a security misconfiguration in the system. This could be due to incorrect settings, outdated software, or other configuration errors.\n",
      "\n",
      "A security misconfiguration occurs when the system is not configured securely, leaving it vulnerable to attacks. This can happen due to various reasons such as human error, lack of knowledge, or neglecting security updates. In this case, the warning message suggests that there is a potential vulnerability that needs to be addressed immediately.\n",
      "\n",
      "Recommendation:\n",
      "To address this issue, it is recommended to investigate the warning message further and identify the root cause of the security misconfiguration. This could involve reviewing the system's configuration settings, checking for any outdated software, and ensuring that all security updates are applied.\n",
      "\n",
      "Once the root cause is identified, appropriate measures should be taken\n",
      "\n",
      "-----------------\n",
      "\n",
      "DDoS Attack\n",
      "Anomaly Report: \n",
      "2024-06-02T13:15:25Z [ALERT] Intrusion detection system flagged suspicious traffic from IP 198.51.100.25.\n",
      "\n",
      "\n",
      "Report:\n",
      "\n",
      "Problem:\n",
      "The query for DDoS attack has resulted in an alert from the intrusion detection system (IDS) for suspicious traffic from IP 198.51.100.25. This indicates that there may be a potential DDoS attack targeting the system.\n",
      "\n",
      "Explanation:\n",
      "A DDoS (Distributed Denial of Service) attack is a type of cyber attack where multiple compromised systems, often infected with malware, are used to target a single system or network. The goal of a DDoS attack is to overwhelm the targeted system with a large amount of traffic, causing it to crash or become unavailable to legitimate users.\n",
      "\n",
      "In this case, the IDS has flagged suspicious traffic from IP 198.51.100.25, indicating that it may be part of a DDoS attack. This IP address could be a compromised system being used as part of the attack, or it could be a spoofed IP address used to hide the true source of the attack.\n",
      "\n",
      "Recommendation:\n",
      "1. Investigate the source of the suspicious traffic: The first step in addressing a potential DDoS attack is to investigate the source of the suspicious traffic. This can be done by analyzing network traffic logs and identifying any patterns or anomalies.\n",
      "\n",
      "2. Block the suspicious IP address:\n",
      "\n",
      "-----------------\n",
      "\n",
      "Hardware Failure\n",
      "Anomaly Report: \n",
      "Jun 3 10:15:00 Router1 %SYS-5-RESTART: System restarted --\n",
      "Jun 3 10:15:00 Router1 %SYS-5-RESTART: System restarted --\n",
      "Jun 3 10:15:00 Router1 %SYS-5-RESTART: System restarted --\n",
      "\n",
      "\n",
      "Report:\n",
      "\n",
      "Problem:\n",
      "The query \"Hardware Failure\" indicates that there may be an issue with the hardware of Router1. This is further supported by the logs showing multiple system restarts at the same time.\n",
      "\n",
      "Possible Causes:\n",
      "1. Hardware malfunction: The hardware of Router1 may have malfunctioned, causing the system to restart multiple times.\n",
      "2. Overheating: The router may have overheated, leading to hardware failure and subsequent restarts.\n",
      "3. Power supply issues: The power supply to Router1 may be unstable, causing the system to restart.\n",
      "\n",
      "Recommendations:\n",
      "1. Check hardware: The first step would be to check the hardware of Router1 for any signs of damage or malfunction. This can be done by a trained technician or by contacting the manufacturer for assistance.\n",
      "2. Monitor temperature: It is important to monitor the temperature of Router1 to ensure it is within the recommended range. If the router is overheating, steps should be taken to improve ventilation and cooling.\n",
      "3. Check power supply: The power supply to Router1 should be checked for stability. If there are any issues, it is recommended to use a UPS (Uninterruptible Power Supply) to ensure a stable power supply.\n",
      "4. Update firmware: It is also recommended to check for any firmware\n",
      "\n",
      "-----------------\n",
      "\n",
      "Physical Damage\n",
      "Anomaly Report: \n",
      "2024-06-02T13:30:40Z [CRITICAL] Router rebooted unexpectedly, last log messages may indicate cause.\n",
      "\n",
      "\n",
      "Report:\n",
      "\n",
      "Problem:\n",
      "The query for \"Physical Damage\" has resulted in a critical log message indicating that the router has rebooted unexpectedly. This could potentially indicate a hardware issue or a software malfunction that has caused physical damage to the router.\n",
      "\n",
      "Possible Causes:\n",
      "1. Hardware Failure: The router may have experienced a hardware failure, such as a power surge or a faulty component, which has caused physical damage and resulted in the unexpected reboot.\n",
      "2. Software Malfunction: There may have been a software malfunction, such as a bug or a virus, that has caused the router to reboot unexpectedly and potentially caused physical damage.\n",
      "\n",
      "Recommendation:\n",
      "1. Physical Inspection: The first step would be to physically inspect the router for any visible signs of damage, such as burnt components or loose connections. If any damage is found, the affected components should be replaced.\n",
      "2. Software Update: If no physical damage is found, the next step would be to update the router's software to the latest version. This can help fix any bugs or vulnerabilities that may have caused the unexpected reboot.\n",
      "3. Security Check: It is also recommended to perform a security check to ensure that the router has not been compromised by a virus or malware. If any malicious activity is detected, appropriate measures should be taken to remove\n",
      "\n",
      "-----------------\n",
      "\n",
      "Firmware Issues\n",
      "Anomaly Report: \n",
      "Jun 3 10:15:00 Router1 %SYS-5-RESTART: System restarted --\n",
      "\n",
      "\n",
      "Report:\n",
      "\n",
      "Problem:\n",
      "The router with the hostname \"Router1\" experienced a system restart on June 3 at 10:15:00. This was indicated by the log message \"%SYS-5-RESTART: System restarted\". This unexpected restart could be a result of firmware issues.\n",
      "\n",
      "Explanation:\n",
      "Firmware is a type of software that is embedded in hardware devices, such as routers, to control their functionality. It is responsible for managing the device's hardware components and providing the necessary instructions for it to function properly. If there are issues with the firmware, it can cause the device to malfunction or even crash, resulting in a system restart.\n",
      "\n",
      "Recommendation:\n",
      "To address this issue, it is recommended to check the firmware version of the router and ensure that it is up to date. If there are any known bugs or vulnerabilities in the current firmware version, it is advisable to upgrade to a newer version that addresses these issues. Additionally, it is important to regularly monitor the router's performance and logs to identify any potential firmware issues and address them promptly.\n",
      "\n",
      "Conclusion:\n",
      "In conclusion, the unexpected system restart on Router1 could be a result of firmware issues. It is important to regularly update the firmware and monitor the router's performance to prevent such incidents from occurring in the future. \n",
      "\n",
      "-----------------\n",
      "\n",
      "Overutilization of Resources\n",
      "Anomaly Report: \n",
      "Jun 3 10:15:09 Router1 %QOS-5-QOS_FLOW_MONITORING: 80% of bandwidth utilization reached on GigabitEthernet0/0\n",
      "Jun 3 10:15:09 Router1 %QOS-5-QOS_FLOW_MONITORING: 80% of bandwidth utilization reached on GigabitEthernet0/1\n",
      "2024-06-02T13:35:45Z [WARNING] Unexpected decrease in interface GigabitEthernet0/1 bandwidth utilization.\n",
      "\n",
      "\n",
      "Report:\n",
      "\n",
      "Title: Overutilization of Resources on Router1\n",
      "\n",
      "Introduction:\n",
      "The purpose of this report is to analyze the issue of overutilization of resources on Router1. The query \"Overutilization of Resources\" refers to the excessive use of bandwidth on the router, which can lead to network congestion and performance issues. This report will provide a detailed analysis of the logs and recommend a solution to address the problem.\n",
      "\n",
      "Logs:\n",
      "Jun 3 10:15:09 Router1 %QOS-5-QOS_FLOW_MONITORING: 80% of bandwidth utilization reached on GigabitEthernet0/0\n",
      "Jun 3 10:15:09 Router1 %QOS-5-QOS_FLOW_MONITORING: 80% of bandwidth utilization reached on GigabitEthernet0/1\n",
      "\n",
      "Analysis:\n",
      "The logs indicate that the router is experiencing high bandwidth utilization on both GigabitEthernet0/0 and GigabitEthernet0/1 interfaces. This means that the router is using 80% of its available bandwidth, which is a significant amount. This can lead to network congestion and affect the performance of the network.\n",
      "\n",
      "The timestamp on the logs also suggests that the issue occurred on Jun 3 at 10:15:09, which could have caused disruptions to network\n",
      "\n",
      "-----------------\n",
      "\n"
     ]
    }
   ],
   "source": [
    "for ano in anomalies_reports:\n",
    "    print(ano[0])\n",
    "    log_text = '\\n'.join([j.text for j in ano[1]])\n",
    "    print(f\"Anomaly Report: \\n{log_text}\\n\\n{ano[2]}\")\n",
    "    print('\\n-----------------\\n')\n",
    "    #print(input())"
   ]
  },
  {
   "cell_type": "code",
   "execution_count": null,
   "id": "67141ee8-11ef-4227-9050-0e02a8b30fd6",
   "metadata": {},
   "outputs": [],
   "source": []
  },
  {
   "cell_type": "code",
   "execution_count": null,
   "id": "7e08fea8-44e1-4d4a-9e54-056e3180bf2c",
   "metadata": {},
   "outputs": [],
   "source": []
  }
 ],
 "metadata": {
  "kernelspec": {
   "display_name": "Python 3 (ipykernel)",
   "language": "python",
   "name": "python3"
  },
  "language_info": {
   "codemirror_mode": {
    "name": "ipython",
    "version": 3
   },
   "file_extension": ".py",
   "mimetype": "text/x-python",
   "name": "python",
   "nbconvert_exporter": "python",
   "pygments_lexer": "ipython3",
   "version": "3.11.7"
  }
 },
 "nbformat": 4,
 "nbformat_minor": 5
}
